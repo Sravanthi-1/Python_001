{
  "cells": [
    {
      "metadata": {
        "trusted": true
      },
      "cell_type": "markdown",
      "source": "### 1. To find whether a given number is Even or Odd using Left & Right Shift Operators (using Standard Input)."
    },
    {
      "metadata": {
        "trusted": true
      },
      "cell_type": "code",
      "source": "num=int(input(\"Enter a Number: \"))\nif num>>1 == num/2:\n    print(\"\\nTrue.\\nThe Number is Even.\")\nelse:\n          print(\"\\nFalse.\\nThe Number is Odd.\")",
      "execution_count": 72,
      "outputs": [
        {
          "output_type": "stream",
          "name": "stdout",
          "text": "Enter a Number: 21\n\nFalse.\nThe Number is Odd.\n"
        }
      ]
    },
    {
      "metadata": {},
      "cell_type": "markdown",
      "source": "### 2. To print the Denominations of the entered Amount of Money."
    },
    {
      "metadata": {
        "trusted": true
      },
      "cell_type": "code",
      "source": "n=int(input())\nden=[2000,500,200,100,50,20,10,5,2,1]\nr=0\nfor i in den:\n    if n>=i:\n        r=int(n/i)\n        n=n%i\n        print(\"Rs\",i,\":\",r)",
      "execution_count": 7,
      "outputs": [
        {
          "output_type": "stream",
          "name": "stdout",
          "text": "468\nRs 200 : 2\nRs 50 : 1\nRs 10 : 1\nRs 5 : 1\nRs 2 : 1\nRs 1 : 1\n"
        }
      ]
    }
  ],
  "metadata": {
    "kernelspec": {
      "name": "python3",
      "display_name": "Python 3",
      "language": "python"
    },
    "language_info": {
      "mimetype": "text/x-python",
      "nbconvert_exporter": "python",
      "name": "python",
      "pygments_lexer": "ipython3",
      "version": "3.5.4",
      "file_extension": ".py",
      "codemirror_mode": {
        "version": 3,
        "name": "ipython"
      }
    }
  },
  "nbformat": 4,
  "nbformat_minor": 2
}